{
 "cells": [
  {
   "cell_type": "code",
   "execution_count": 20,
   "id": "8363404b",
   "metadata": {},
   "outputs": [],
   "source": [
    "import warnings\n",
    "import numpy as np\n",
    "import pandas as pd\n",
    "import matplotlib.pyplot as plt\n",
    "import seaborn as sns\n",
    "from sklearn.linear_model import LogisticRegression\n",
    "from sklearn.model_selection import (\n",
    "\tStratifiedKFold,\n",
    "\tGridSearchCV,\n",
    ")\n",
    "from sklearn.metrics import (\n",
    "\tconfusion_matrix,\n",
    ")\n",
    "import joblib\n",
    "from sklearn.ensemble import RandomForestClassifier\n",
    "from sklearn.tree import DecisionTreeClassifier\n",
    "\n",
    "warnings.filterwarnings(\"ignore\")"
   ]
  },
  {
   "cell_type": "markdown",
   "id": "237fdb53",
   "metadata": {},
   "source": [
    "#### Load my data"
   ]
  },
  {
   "cell_type": "code",
   "execution_count": 21,
   "id": "da35154b",
   "metadata": {},
   "outputs": [],
   "source": [
    "X_train = np.load(\"artifacts/X_train.npz\")[\"arr_0\"]\n",
    "Y_train = np.load(\"artifacts/y_train.npz\")[\"arr_0\"]\n",
    "X_test = np.load(\"artifacts/X_test.npz\")[\"arr_0\"]\n",
    "Y_test = np.load(\"artifacts/y_test.npz\")[\"arr_0\"]"
   ]
  },
  {
   "cell_type": "markdown",
   "id": "c4b7e883",
   "metadata": {},
   "source": [
    "#### Define multi models"
   ]
  },
  {
   "cell_type": "code",
   "execution_count": 22,
   "id": "a5d4949b",
   "metadata": {},
   "outputs": [],
   "source": [
    "lr_param_grid = {\n",
    "    \"max_iter\" : [1000, 5000, 10000] #training 1 models\n",
    "}\n",
    "\n",
    "dt_param_grid = {\n",
    "    \"max_depth\": [8, 12, 16, 20], #2 variables - training 4 * 3 models\n",
    "    \"criterion\": [\"gini\", \"entropy\", \"log_loss\"]\n",
    "}\n",
    "\n",
    "rf_param_grid = {\n",
    "    \"n_estimators\": [50, 100, 150, 200], #3 variables - training 4 * 4 * 3 models\n",
    "    \"max_depth\": [8, 12, 16, 20],\n",
    "    \"criterion\": [\"gini\", \"entropy\", \"log_loss\"]\n",
    "}\n",
    "\n",
    "param_grids = {\n",
    "    \"Logistic Regression\": lr_param_grid,\n",
    "    \"Random Forest\": rf_param_grid,\n",
    "    \"Decision Tree\": dt_param_grid\n",
    "}"
   ]
  },
  {
   "cell_type": "markdown",
   "id": "b6184710",
   "metadata": {},
   "source": [
    "#### Define multi models"
   ]
  },
  {
   "cell_type": "code",
   "execution_count": 23,
   "id": "f4876356",
   "metadata": {},
   "outputs": [],
   "source": [
    "models = {\n",
    "    \"Logistic Regression\": LogisticRegression(),\n",
    "    \"Random Forest\": RandomForestClassifier(),\n",
    "    \"Decision Tree\": DecisionTreeClassifier(),\n",
    "}\n"
   ]
  },
  {
   "cell_type": "markdown",
   "id": "6dfcf070",
   "metadata": {},
   "source": [
    "#### Configure K-Fold cv"
   ]
  },
  {
   "cell_type": "code",
   "execution_count": 24,
   "id": "57c981a7",
   "metadata": {},
   "outputs": [],
   "source": [
    "cv = StratifiedKFold(n_splits=6, shuffle=True, random_state=42)"
   ]
  },
  {
   "cell_type": "markdown",
   "id": "2a283e4d",
   "metadata": {},
   "source": [
    "#### Multi model training"
   ]
  },
  {
   "cell_type": "code",
   "execution_count": 26,
   "id": "b83621e4",
   "metadata": {},
   "outputs": [
    {
     "name": "stdout",
     "output_type": "stream",
     "text": [
      "\n",
      "--- Tunning Logistic Regression ---\n",
      "Fitting gridSearchCv for Logistic Regression\n",
      "Fitting 6 folds for each of 3 candidates, totalling 18 fits\n",
      "Logistic Regression gridSearchCv completed ...\n",
      "Best parameters: {'max_iter': 1000}\n",
      "Best cv score: 0.7318169755021501\n",
      "\n",
      "--- Tunning Random Forest ---\n",
      "Fitting gridSearchCv for Random Forest\n",
      "Fitting 6 folds for each of 48 candidates, totalling 288 fits\n",
      "Random Forest gridSearchCv completed ...\n",
      "Best parameters: {'criterion': 'entropy', 'max_depth': 20, 'n_estimators': 200}\n",
      "Best cv score: 0.8941965818377816\n",
      "\n",
      "--- Tunning Decision Tree ---\n",
      "Fitting gridSearchCv for Decision Tree\n",
      "Fitting 6 folds for each of 12 candidates, totalling 72 fits\n",
      "Decision Tree gridSearchCv completed ...\n",
      "Best parameters: {'criterion': 'log_loss', 'max_depth': 16}\n",
      "Best cv score: 0.8332755250325262\n"
     ]
    }
   ],
   "source": [
    "grid_search_results = {}\n",
    "for model_name, model in models.items():\n",
    "    print(f\"\\n--- Tunning {model_name} ---\")\n",
    "    param_grid = param_grids[model_name]\n",
    "    \n",
    "    grid_search = GridSearchCV(\n",
    "\t\testimator=model,\n",
    "\t\tparam_grid=param_grid,\n",
    "\t\tcv=cv,\n",
    "\t\tscoring=\"f1\",\n",
    "\t\tverbose=1,\n",
    "\t\treturn_train_score=False\n",
    "\t)\n",
    "    print(f\"Fitting gridSearchCv for {model_name}\")\n",
    "    \n",
    "    grid_search.fit(X_train, Y_train)\n",
    "    \n",
    "    grid_search_results[model_name] = grid_search\n",
    "    \n",
    "    print(f\"{model_name} gridSearchCv completed ...\")\n",
    "    \n",
    "    print(f\"Best parameters: {grid_search.best_params_}\")\n",
    "    print(f\"Best cv score: {grid_search.best_score_}\")\n"
   ]
  },
  {
   "cell_type": "code",
   "execution_count": null,
   "id": "f25cde4f",
   "metadata": {},
   "outputs": [],
   "source": []
  }
 ],
 "metadata": {
  "kernelspec": {
   "display_name": "prml-01",
   "language": "python",
   "name": "python3"
  },
  "language_info": {
   "codemirror_mode": {
    "name": "ipython",
    "version": 3
   },
   "file_extension": ".py",
   "mimetype": "text/x-python",
   "name": "python",
   "nbconvert_exporter": "python",
   "pygments_lexer": "ipython3",
   "version": "3.11.13"
  }
 },
 "nbformat": 4,
 "nbformat_minor": 5
}
